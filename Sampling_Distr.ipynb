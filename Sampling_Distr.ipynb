{
 "cells": [
  {
   "cell_type": "code",
   "execution_count": 1,
   "metadata": {},
   "outputs": [
    {
     "name": "stdout",
     "output_type": "stream",
     "text": [
      "Enter tha value of Z0: -0.564\n",
      "Probability(Z<Z0) is 0.286377\n"
     ]
    }
   ],
   "source": [
    "#[Z-Distribution]\n",
    "\n",
    "#Part-1: Find (Z<Z0) where Z-value(Z0) is taken as input for Z-Distribution.\n",
    "\n",
    "#To import library\n",
    "import scipy.stats as stat\n",
    "\n",
    "#To take Z0 as input for Z-Distribution\n",
    "Z0 = float(input(\"Enter tha value of Z0: \"))\n",
    "\n",
    "#To calculate the probability P(Z<Z0)\n",
    "prob=stat.norm.cdf(Z0)\n",
    "print('Probability(Z<Z0) is {:.6f}'.format(prob))"
   ]
  },
  {
   "cell_type": "code",
   "execution_count": 3,
   "metadata": {},
   "outputs": [
    {
     "name": "stdout",
     "output_type": "stream",
     "text": [
      "Enter the value of alpha: 0.2863\n",
      "Z0 value for the given alpha value is -0.564226\n"
     ]
    }
   ],
   "source": [
    "#Part-2 Find Z-value(Z0) such that P(Z<Z0)=alpha where is taken as input.\n",
    "\n",
    "#To import library\n",
    "import scipy.stats as stat\n",
    "\n",
    "#To take alpha value as input\n",
    "alpha_z= float(input(\"Enter the value of alpha: \"))\n",
    "\n",
    "#To calculate Z0 value\n",
    "Z0 = stat.norm.ppf(alpha_z)\n",
    "print('Z0 value for the given alpha value is {:.6f}'.format(Z0))"
   ]
  },
  {
   "cell_type": "code",
   "execution_count": 4,
   "metadata": {},
   "outputs": [
    {
     "name": "stdout",
     "output_type": "stream",
     "text": [
      "Enter the T0 value: 4.89\n",
      "Enter the degree of freedom: 2\n",
      "Probability(T<T0) is 0.980317\n"
     ]
    }
   ],
   "source": [
    "#[T-Distribution]\n",
    "\n",
    "#Part-1: Find P(T<T0) where T0 is taken as input for T-Distribution.\n",
    "\n",
    "# To import library\n",
    "import scipy.stats as stat\n",
    "\n",
    "#To take T0 value and degree of freedom as input for T-Distribution\n",
    "T0 = float(input(\"Enter the T0 value: \"))\n",
    "dof_t=float(input(\"Enter the degree of freedom: \"))\n",
    "\n",
    "#To Calculate the probability P(T<T0)\n",
    "prob=stat.t.cdf(T0,dof_t)\n",
    "print('Probability(T<T0) is {:.6f}'.format(prob))"
   ]
  },
  {
   "cell_type": "code",
   "execution_count": 5,
   "metadata": {},
   "outputs": [
    {
     "name": "stdout",
     "output_type": "stream",
     "text": [
      "Enter the value of alpha: 0.9803\n",
      "Enter the degree of freedom: 2\n",
      "T0 value for the given alpha value and the degree of freedom is  4.887817\n"
     ]
    }
   ],
   "source": [
    "#Part-2 Find T0 such that P(T<T0)=alpha where alpha and degree of freedom are taken as input.\n",
    "\n",
    "# To import library\n",
    "import scipy.stats as stat\n",
    "\n",
    "#To take alpha value and degree of freedom \n",
    "alpha_t= float(input(\"Enter the value of alpha: \"))\n",
    "dof_t= float(input(\"Enter the degree of freedom: \"))\n",
    "\n",
    "# To calculate T0 value \n",
    "T0 = stat.t.ppf(alpha_t,dof_t)\n",
    "print('T0 value for the given alpha value and the degree of freedom is  {:.6f}'.format(T0))"
   ]
  },
  {
   "cell_type": "code",
   "execution_count": 6,
   "metadata": {},
   "outputs": [
    {
     "name": "stdout",
     "output_type": "stream",
     "text": [
      "Enter Critical Value 5.84\n",
      "Enter degree of freedom 2\n",
      "Probability(X^2 < crit_val) is 0.946066\n"
     ]
    }
   ],
   "source": [
    "#[Chi-square Distribution]\n",
    "\n",
    "#Part 1: Find P( X^2 <crit_val) where crit_value(critical value) and degree of freedom is taken as input.\n",
    "\n",
    "# To import library\n",
    "import scipy.stats as stat\n",
    "\n",
    "#To take input as critical value and degree of freedom for the Chi-square Distribution\n",
    "crit_val= float(input(\"Enter Critical Value \"))\n",
    "dof_chi_sq = float(input(\"Enter degree of freedom \"))\n",
    "\n",
    "#To calculate the probability P(X^2 < CV)\n",
    "prob=stat.chi2.cdf(crit_val,dof_chi_sq)\n",
    "print('Probability(X^2 < crit_val) is {:.6f}'.format(prob))"
   ]
  },
  {
   "cell_type": "code",
   "execution_count": 8,
   "metadata": {},
   "outputs": [
    {
     "name": "stdout",
     "output_type": "stream",
     "text": [
      "Enter the value of alpha 0.9460\n",
      "Enter degree of freedom 2\n",
      "Critical value for the Chi-square is 5.837542\n"
     ]
    }
   ],
   "source": [
    "#Part-2 Find Chi-Square critical value s.t. P(X^2 < crit_val)= alpha where value of alpha and degree of freedom is taken as input.\n",
    "\n",
    "#To import library\n",
    "import scipy.stats as stat\n",
    "\n",
    "#To take alpha value and degree of freedom as input\n",
    "alpha_chi_sq= float(input(\"Enter the value of alpha \"))\n",
    "dof_chi_sq= float(input(\"Enter degree of freedom \"))\n",
    "\n",
    "#To calculate critical value for the Chi_square\n",
    "crit_val = stat.chi2.ppf(alpha_chi_sq,dof_chi_sq)\n",
    "print('Critical value for the Chi-square is {:.6f}'.format(crit_val))"
   ]
  },
  {
   "cell_type": "code",
   "execution_count": 9,
   "metadata": {},
   "outputs": [
    {
     "name": "stdout",
     "output_type": "stream",
     "text": [
      "Enter the f-value 0.563\n",
      "Enter the first degree of freedom 3\n",
      "Enter th second degree of freedom 4\n",
      "Probability(F<F0) is 0.332378\n"
     ]
    }
   ],
   "source": [
    "#[F-Distribution]\n",
    "\n",
    "#Part 1: Find P(F<F0) where f-value(F0) and two degree of freedom are taken as input.\n",
    "\n",
    "# To import library\n",
    "import scipy.stats as stat\n",
    "\n",
    "#To take f-value and two degree of freedom for the F-Distribution\n",
    "F0 = float(input(\"Enter the f-value \"))\n",
    "dof1 = float(input(\"Enter the first degree of freedom \"))\n",
    "dof2 = float(input(\"Enter th second degree of freedom \"))\n",
    "\n",
    "# To calculate the probability P(F<F0)\n",
    "prob=stat.f.cdf(F0,dof1,dof2)\n",
    "print('Probability(F<F0) is {:.6f}'.format(prob))"
   ]
  },
  {
   "cell_type": "code",
   "execution_count": 10,
   "metadata": {},
   "outputs": [
    {
     "name": "stdout",
     "output_type": "stream",
     "text": [
      "Enter the value of alpha 0.3323\n",
      "Enter the first degree of freedom 3\n",
      "Enter the second degree of freedom  4\n",
      "F0 value for the given alpha value and 2 degree of freedom is 0.562854\n"
     ]
    }
   ],
   "source": [
    "#Part 2: Find f-value(F0) such that P(F<F0)= alpha where alpha and degree of freedoms are taken as input\n",
    "\n",
    "# To import library\n",
    "import scipy.stats as stat\n",
    "\n",
    "# To take alpha value and two degree of freedom as input\n",
    "alpha = float(input(\"Enter the value of alpha \"))\n",
    "df1 = float(input(\"Enter the first degree of freedom \"))\n",
    "df2 = float(input(\"Enter the second degree of freedom  \"))\n",
    "\n",
    "#To calculate F0\n",
    "F0 = stat.f.ppf(alpha,df1,df2)\n",
    "print('F0 value for the given alpha value and 2 degree of freedom is {:.6f}'.format(F0))"
   ]
  },
  {
   "cell_type": "code",
   "execution_count": null,
   "metadata": {},
   "outputs": [],
   "source": []
  }
 ],
 "metadata": {
  "kernelspec": {
   "display_name": "Python 3",
   "language": "python",
   "name": "python3"
  },
  "language_info": {
   "codemirror_mode": {
    "name": "ipython",
    "version": 3
   },
   "file_extension": ".py",
   "mimetype": "text/x-python",
   "name": "python",
   "nbconvert_exporter": "python",
   "pygments_lexer": "ipython3",
   "version": "3.7.4"
  }
 },
 "nbformat": 4,
 "nbformat_minor": 2
}
