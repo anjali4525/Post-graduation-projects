{
 "cells": [
  {
   "cell_type": "code",
   "execution_count": null,
   "metadata": {
    "id": "wLoF6jp_GBQC"
   },
   "outputs": [],
   "source": [
    "import pandas as pd\n",
    "import matplotlib.pyplot as plt\n",
    "import numpy as np\n",
    "import tensorflow as tf \n",
    "from tensorflow import keras\n",
    "from sklearn.preprocessing import MinMaxScaler\n",
    "from sklearn.metrics import mean_absolute_error\n",
    "from sklearn.metrics import mean_squared_error\n",
    "from tensorflow.keras import Sequential\n",
    "from tensorflow.keras.layers import Dense, LSTM\n",
    "from keras.layers.convolutional import Conv1D"
   ]
  },
  {
   "cell_type": "code",
   "execution_count": null,
   "metadata": {
    "id": "eXiiHuYB0V69"
   },
   "outputs": [],
   "source": [
    "df = pd.read_csv('https://archive.ics.uci.edu/ml/machine-learning-databases/00381/PRSA_data_2010.1.1-2014.12.31.csv',infer_datetime_format=True,low_memory=True)"
   ]
  },
  {
   "cell_type": "code",
   "execution_count": null,
   "metadata": {
    "colab": {
     "base_uri": "https://localhost:8080/",
     "height": 417
    },
    "id": "0oZF_EGmG5aw",
    "outputId": "c7c98d91-8e2e-4e0f-9f8e-911530ec5a55"
   },
   "outputs": [
    {
     "data": {
      "text/html": [
       "<div>\n",
       "<style scoped>\n",
       "    .dataframe tbody tr th:only-of-type {\n",
       "        vertical-align: middle;\n",
       "    }\n",
       "\n",
       "    .dataframe tbody tr th {\n",
       "        vertical-align: top;\n",
       "    }\n",
       "\n",
       "    .dataframe thead th {\n",
       "        text-align: right;\n",
       "    }\n",
       "</style>\n",
       "<table border=\"1\" class=\"dataframe\">\n",
       "  <thead>\n",
       "    <tr style=\"text-align: right;\">\n",
       "      <th></th>\n",
       "      <th>No</th>\n",
       "      <th>year</th>\n",
       "      <th>month</th>\n",
       "      <th>day</th>\n",
       "      <th>hour</th>\n",
       "      <th>pm2.5</th>\n",
       "      <th>DEWP</th>\n",
       "      <th>TEMP</th>\n",
       "      <th>PRES</th>\n",
       "      <th>cbwd</th>\n",
       "      <th>Iws</th>\n",
       "      <th>Is</th>\n",
       "      <th>Ir</th>\n",
       "    </tr>\n",
       "  </thead>\n",
       "  <tbody>\n",
       "    <tr>\n",
       "      <th>0</th>\n",
       "      <td>1</td>\n",
       "      <td>2010</td>\n",
       "      <td>1</td>\n",
       "      <td>1</td>\n",
       "      <td>0</td>\n",
       "      <td>NaN</td>\n",
       "      <td>-21</td>\n",
       "      <td>-11.0</td>\n",
       "      <td>1021.0</td>\n",
       "      <td>NW</td>\n",
       "      <td>1.79</td>\n",
       "      <td>0</td>\n",
       "      <td>0</td>\n",
       "    </tr>\n",
       "    <tr>\n",
       "      <th>1</th>\n",
       "      <td>2</td>\n",
       "      <td>2010</td>\n",
       "      <td>1</td>\n",
       "      <td>1</td>\n",
       "      <td>1</td>\n",
       "      <td>NaN</td>\n",
       "      <td>-21</td>\n",
       "      <td>-12.0</td>\n",
       "      <td>1020.0</td>\n",
       "      <td>NW</td>\n",
       "      <td>4.92</td>\n",
       "      <td>0</td>\n",
       "      <td>0</td>\n",
       "    </tr>\n",
       "    <tr>\n",
       "      <th>2</th>\n",
       "      <td>3</td>\n",
       "      <td>2010</td>\n",
       "      <td>1</td>\n",
       "      <td>1</td>\n",
       "      <td>2</td>\n",
       "      <td>NaN</td>\n",
       "      <td>-21</td>\n",
       "      <td>-11.0</td>\n",
       "      <td>1019.0</td>\n",
       "      <td>NW</td>\n",
       "      <td>6.71</td>\n",
       "      <td>0</td>\n",
       "      <td>0</td>\n",
       "    </tr>\n",
       "    <tr>\n",
       "      <th>3</th>\n",
       "      <td>4</td>\n",
       "      <td>2010</td>\n",
       "      <td>1</td>\n",
       "      <td>1</td>\n",
       "      <td>3</td>\n",
       "      <td>NaN</td>\n",
       "      <td>-21</td>\n",
       "      <td>-14.0</td>\n",
       "      <td>1019.0</td>\n",
       "      <td>NW</td>\n",
       "      <td>9.84</td>\n",
       "      <td>0</td>\n",
       "      <td>0</td>\n",
       "    </tr>\n",
       "    <tr>\n",
       "      <th>4</th>\n",
       "      <td>5</td>\n",
       "      <td>2010</td>\n",
       "      <td>1</td>\n",
       "      <td>1</td>\n",
       "      <td>4</td>\n",
       "      <td>NaN</td>\n",
       "      <td>-20</td>\n",
       "      <td>-12.0</td>\n",
       "      <td>1018.0</td>\n",
       "      <td>NW</td>\n",
       "      <td>12.97</td>\n",
       "      <td>0</td>\n",
       "      <td>0</td>\n",
       "    </tr>\n",
       "    <tr>\n",
       "      <th>...</th>\n",
       "      <td>...</td>\n",
       "      <td>...</td>\n",
       "      <td>...</td>\n",
       "      <td>...</td>\n",
       "      <td>...</td>\n",
       "      <td>...</td>\n",
       "      <td>...</td>\n",
       "      <td>...</td>\n",
       "      <td>...</td>\n",
       "      <td>...</td>\n",
       "      <td>...</td>\n",
       "      <td>...</td>\n",
       "      <td>...</td>\n",
       "    </tr>\n",
       "    <tr>\n",
       "      <th>43819</th>\n",
       "      <td>43820</td>\n",
       "      <td>2014</td>\n",
       "      <td>12</td>\n",
       "      <td>31</td>\n",
       "      <td>19</td>\n",
       "      <td>8.0</td>\n",
       "      <td>-23</td>\n",
       "      <td>-2.0</td>\n",
       "      <td>1034.0</td>\n",
       "      <td>NW</td>\n",
       "      <td>231.97</td>\n",
       "      <td>0</td>\n",
       "      <td>0</td>\n",
       "    </tr>\n",
       "    <tr>\n",
       "      <th>43820</th>\n",
       "      <td>43821</td>\n",
       "      <td>2014</td>\n",
       "      <td>12</td>\n",
       "      <td>31</td>\n",
       "      <td>20</td>\n",
       "      <td>10.0</td>\n",
       "      <td>-22</td>\n",
       "      <td>-3.0</td>\n",
       "      <td>1034.0</td>\n",
       "      <td>NW</td>\n",
       "      <td>237.78</td>\n",
       "      <td>0</td>\n",
       "      <td>0</td>\n",
       "    </tr>\n",
       "    <tr>\n",
       "      <th>43821</th>\n",
       "      <td>43822</td>\n",
       "      <td>2014</td>\n",
       "      <td>12</td>\n",
       "      <td>31</td>\n",
       "      <td>21</td>\n",
       "      <td>10.0</td>\n",
       "      <td>-22</td>\n",
       "      <td>-3.0</td>\n",
       "      <td>1034.0</td>\n",
       "      <td>NW</td>\n",
       "      <td>242.70</td>\n",
       "      <td>0</td>\n",
       "      <td>0</td>\n",
       "    </tr>\n",
       "    <tr>\n",
       "      <th>43822</th>\n",
       "      <td>43823</td>\n",
       "      <td>2014</td>\n",
       "      <td>12</td>\n",
       "      <td>31</td>\n",
       "      <td>22</td>\n",
       "      <td>8.0</td>\n",
       "      <td>-22</td>\n",
       "      <td>-4.0</td>\n",
       "      <td>1034.0</td>\n",
       "      <td>NW</td>\n",
       "      <td>246.72</td>\n",
       "      <td>0</td>\n",
       "      <td>0</td>\n",
       "    </tr>\n",
       "    <tr>\n",
       "      <th>43823</th>\n",
       "      <td>43824</td>\n",
       "      <td>2014</td>\n",
       "      <td>12</td>\n",
       "      <td>31</td>\n",
       "      <td>23</td>\n",
       "      <td>12.0</td>\n",
       "      <td>-21</td>\n",
       "      <td>-3.0</td>\n",
       "      <td>1034.0</td>\n",
       "      <td>NW</td>\n",
       "      <td>249.85</td>\n",
       "      <td>0</td>\n",
       "      <td>0</td>\n",
       "    </tr>\n",
       "  </tbody>\n",
       "</table>\n",
       "<p>43824 rows × 13 columns</p>\n",
       "</div>"
      ],
      "text/plain": [
       "          No  year  month  day  hour  pm2.5  ...  TEMP    PRES  cbwd     Iws  Is  Ir\n",
       "0          1  2010      1    1     0    NaN  ... -11.0  1021.0    NW    1.79   0   0\n",
       "1          2  2010      1    1     1    NaN  ... -12.0  1020.0    NW    4.92   0   0\n",
       "2          3  2010      1    1     2    NaN  ... -11.0  1019.0    NW    6.71   0   0\n",
       "3          4  2010      1    1     3    NaN  ... -14.0  1019.0    NW    9.84   0   0\n",
       "4          5  2010      1    1     4    NaN  ... -12.0  1018.0    NW   12.97   0   0\n",
       "...      ...   ...    ...  ...   ...    ...  ...   ...     ...   ...     ...  ..  ..\n",
       "43819  43820  2014     12   31    19    8.0  ...  -2.0  1034.0    NW  231.97   0   0\n",
       "43820  43821  2014     12   31    20   10.0  ...  -3.0  1034.0    NW  237.78   0   0\n",
       "43821  43822  2014     12   31    21   10.0  ...  -3.0  1034.0    NW  242.70   0   0\n",
       "43822  43823  2014     12   31    22    8.0  ...  -4.0  1034.0    NW  246.72   0   0\n",
       "43823  43824  2014     12   31    23   12.0  ...  -3.0  1034.0    NW  249.85   0   0\n",
       "\n",
       "[43824 rows x 13 columns]"
      ]
     },
     "execution_count": 201,
     "metadata": {},
     "output_type": "execute_result"
    }
   ],
   "source": [
    "df"
   ]
  },
  {
   "cell_type": "code",
   "execution_count": null,
   "metadata": {
    "id": "E1CZUM_ufWG1"
   },
   "outputs": [],
   "source": [
    "df=pd.get_dummies(data=df, columns=['cbwd'])"
   ]
  },
  {
   "cell_type": "code",
   "execution_count": null,
   "metadata": {
    "id": "f_JQgOMdoaYH"
   },
   "outputs": [],
   "source": [
    "df=df.drop(columns=['No','day','month','year','hour'])"
   ]
  },
  {
   "cell_type": "code",
   "execution_count": null,
   "metadata": {
    "colab": {
     "base_uri": "https://localhost:8080/",
     "height": 417
    },
    "id": "zqQp0bEBVt5D",
    "outputId": "e2ec8db6-9b54-4f20-e73e-d624b2a06736"
   },
   "outputs": [
    {
     "data": {
      "text/html": [
       "<div>\n",
       "<style scoped>\n",
       "    .dataframe tbody tr th:only-of-type {\n",
       "        vertical-align: middle;\n",
       "    }\n",
       "\n",
       "    .dataframe tbody tr th {\n",
       "        vertical-align: top;\n",
       "    }\n",
       "\n",
       "    .dataframe thead th {\n",
       "        text-align: right;\n",
       "    }\n",
       "</style>\n",
       "<table border=\"1\" class=\"dataframe\">\n",
       "  <thead>\n",
       "    <tr style=\"text-align: right;\">\n",
       "      <th></th>\n",
       "      <th>pm2.5</th>\n",
       "      <th>DEWP</th>\n",
       "      <th>TEMP</th>\n",
       "      <th>PRES</th>\n",
       "      <th>Iws</th>\n",
       "      <th>Is</th>\n",
       "      <th>Ir</th>\n",
       "      <th>cbwd_NE</th>\n",
       "      <th>cbwd_NW</th>\n",
       "      <th>cbwd_SE</th>\n",
       "      <th>cbwd_cv</th>\n",
       "    </tr>\n",
       "  </thead>\n",
       "  <tbody>\n",
       "    <tr>\n",
       "      <th>0</th>\n",
       "      <td>NaN</td>\n",
       "      <td>-21</td>\n",
       "      <td>-11.0</td>\n",
       "      <td>1021.0</td>\n",
       "      <td>1.79</td>\n",
       "      <td>0</td>\n",
       "      <td>0</td>\n",
       "      <td>0</td>\n",
       "      <td>1</td>\n",
       "      <td>0</td>\n",
       "      <td>0</td>\n",
       "    </tr>\n",
       "    <tr>\n",
       "      <th>1</th>\n",
       "      <td>NaN</td>\n",
       "      <td>-21</td>\n",
       "      <td>-12.0</td>\n",
       "      <td>1020.0</td>\n",
       "      <td>4.92</td>\n",
       "      <td>0</td>\n",
       "      <td>0</td>\n",
       "      <td>0</td>\n",
       "      <td>1</td>\n",
       "      <td>0</td>\n",
       "      <td>0</td>\n",
       "    </tr>\n",
       "    <tr>\n",
       "      <th>2</th>\n",
       "      <td>NaN</td>\n",
       "      <td>-21</td>\n",
       "      <td>-11.0</td>\n",
       "      <td>1019.0</td>\n",
       "      <td>6.71</td>\n",
       "      <td>0</td>\n",
       "      <td>0</td>\n",
       "      <td>0</td>\n",
       "      <td>1</td>\n",
       "      <td>0</td>\n",
       "      <td>0</td>\n",
       "    </tr>\n",
       "    <tr>\n",
       "      <th>3</th>\n",
       "      <td>NaN</td>\n",
       "      <td>-21</td>\n",
       "      <td>-14.0</td>\n",
       "      <td>1019.0</td>\n",
       "      <td>9.84</td>\n",
       "      <td>0</td>\n",
       "      <td>0</td>\n",
       "      <td>0</td>\n",
       "      <td>1</td>\n",
       "      <td>0</td>\n",
       "      <td>0</td>\n",
       "    </tr>\n",
       "    <tr>\n",
       "      <th>4</th>\n",
       "      <td>NaN</td>\n",
       "      <td>-20</td>\n",
       "      <td>-12.0</td>\n",
       "      <td>1018.0</td>\n",
       "      <td>12.97</td>\n",
       "      <td>0</td>\n",
       "      <td>0</td>\n",
       "      <td>0</td>\n",
       "      <td>1</td>\n",
       "      <td>0</td>\n",
       "      <td>0</td>\n",
       "    </tr>\n",
       "    <tr>\n",
       "      <th>...</th>\n",
       "      <td>...</td>\n",
       "      <td>...</td>\n",
       "      <td>...</td>\n",
       "      <td>...</td>\n",
       "      <td>...</td>\n",
       "      <td>...</td>\n",
       "      <td>...</td>\n",
       "      <td>...</td>\n",
       "      <td>...</td>\n",
       "      <td>...</td>\n",
       "      <td>...</td>\n",
       "    </tr>\n",
       "    <tr>\n",
       "      <th>43819</th>\n",
       "      <td>8.0</td>\n",
       "      <td>-23</td>\n",
       "      <td>-2.0</td>\n",
       "      <td>1034.0</td>\n",
       "      <td>231.97</td>\n",
       "      <td>0</td>\n",
       "      <td>0</td>\n",
       "      <td>0</td>\n",
       "      <td>1</td>\n",
       "      <td>0</td>\n",
       "      <td>0</td>\n",
       "    </tr>\n",
       "    <tr>\n",
       "      <th>43820</th>\n",
       "      <td>10.0</td>\n",
       "      <td>-22</td>\n",
       "      <td>-3.0</td>\n",
       "      <td>1034.0</td>\n",
       "      <td>237.78</td>\n",
       "      <td>0</td>\n",
       "      <td>0</td>\n",
       "      <td>0</td>\n",
       "      <td>1</td>\n",
       "      <td>0</td>\n",
       "      <td>0</td>\n",
       "    </tr>\n",
       "    <tr>\n",
       "      <th>43821</th>\n",
       "      <td>10.0</td>\n",
       "      <td>-22</td>\n",
       "      <td>-3.0</td>\n",
       "      <td>1034.0</td>\n",
       "      <td>242.70</td>\n",
       "      <td>0</td>\n",
       "      <td>0</td>\n",
       "      <td>0</td>\n",
       "      <td>1</td>\n",
       "      <td>0</td>\n",
       "      <td>0</td>\n",
       "    </tr>\n",
       "    <tr>\n",
       "      <th>43822</th>\n",
       "      <td>8.0</td>\n",
       "      <td>-22</td>\n",
       "      <td>-4.0</td>\n",
       "      <td>1034.0</td>\n",
       "      <td>246.72</td>\n",
       "      <td>0</td>\n",
       "      <td>0</td>\n",
       "      <td>0</td>\n",
       "      <td>1</td>\n",
       "      <td>0</td>\n",
       "      <td>0</td>\n",
       "    </tr>\n",
       "    <tr>\n",
       "      <th>43823</th>\n",
       "      <td>12.0</td>\n",
       "      <td>-21</td>\n",
       "      <td>-3.0</td>\n",
       "      <td>1034.0</td>\n",
       "      <td>249.85</td>\n",
       "      <td>0</td>\n",
       "      <td>0</td>\n",
       "      <td>0</td>\n",
       "      <td>1</td>\n",
       "      <td>0</td>\n",
       "      <td>0</td>\n",
       "    </tr>\n",
       "  </tbody>\n",
       "</table>\n",
       "<p>43824 rows × 11 columns</p>\n",
       "</div>"
      ],
      "text/plain": [
       "       pm2.5  DEWP  TEMP    PRES  ...  cbwd_NE  cbwd_NW  cbwd_SE  cbwd_cv\n",
       "0        NaN   -21 -11.0  1021.0  ...        0        1        0        0\n",
       "1        NaN   -21 -12.0  1020.0  ...        0        1        0        0\n",
       "2        NaN   -21 -11.0  1019.0  ...        0        1        0        0\n",
       "3        NaN   -21 -14.0  1019.0  ...        0        1        0        0\n",
       "4        NaN   -20 -12.0  1018.0  ...        0        1        0        0\n",
       "...      ...   ...   ...     ...  ...      ...      ...      ...      ...\n",
       "43819    8.0   -23  -2.0  1034.0  ...        0        1        0        0\n",
       "43820   10.0   -22  -3.0  1034.0  ...        0        1        0        0\n",
       "43821   10.0   -22  -3.0  1034.0  ...        0        1        0        0\n",
       "43822    8.0   -22  -4.0  1034.0  ...        0        1        0        0\n",
       "43823   12.0   -21  -3.0  1034.0  ...        0        1        0        0\n",
       "\n",
       "[43824 rows x 11 columns]"
      ]
     },
     "execution_count": 204,
     "metadata": {},
     "output_type": "execute_result"
    }
   ],
   "source": [
    "df"
   ]
  },
  {
   "cell_type": "code",
   "execution_count": null,
   "metadata": {
    "id": "7c-VtBlpH2G5"
   },
   "outputs": [],
   "source": [
    "df=df.fillna(method='bfill')"
   ]
  },
  {
   "cell_type": "code",
   "execution_count": null,
   "metadata": {
    "colab": {
     "base_uri": "https://localhost:8080/"
    },
    "id": "XG4DhK2lH2NY",
    "outputId": "a942a079-6e36-4423-e28f-ab81b3b3c676"
   },
   "outputs": [
    {
     "data": {
      "text/plain": [
       "pm2.5      0\n",
       "DEWP       0\n",
       "TEMP       0\n",
       "PRES       0\n",
       "Iws        0\n",
       "Is         0\n",
       "Ir         0\n",
       "cbwd_NE    0\n",
       "cbwd_NW    0\n",
       "cbwd_SE    0\n",
       "cbwd_cv    0\n",
       "dtype: int64"
      ]
     },
     "execution_count": 207,
     "metadata": {},
     "output_type": "execute_result"
    }
   ],
   "source": [
    "df.isna().sum()"
   ]
  },
  {
   "cell_type": "code",
   "execution_count": null,
   "metadata": {
    "id": "HuOEqBc2UezQ"
   },
   "outputs": [],
   "source": [
    "df=df.drop(columns=['TEMP'])"
   ]
  },
  {
   "cell_type": "code",
   "execution_count": null,
   "metadata": {
    "colab": {
     "base_uri": "https://localhost:8080/",
     "height": 417
    },
    "id": "v-liSQccUe1_",
    "outputId": "27ca2887-81d3-496a-b013-6a3c2c409f0a"
   },
   "outputs": [
    {
     "data": {
      "text/html": [
       "<div>\n",
       "<style scoped>\n",
       "    .dataframe tbody tr th:only-of-type {\n",
       "        vertical-align: middle;\n",
       "    }\n",
       "\n",
       "    .dataframe tbody tr th {\n",
       "        vertical-align: top;\n",
       "    }\n",
       "\n",
       "    .dataframe thead th {\n",
       "        text-align: right;\n",
       "    }\n",
       "</style>\n",
       "<table border=\"1\" class=\"dataframe\">\n",
       "  <thead>\n",
       "    <tr style=\"text-align: right;\">\n",
       "      <th></th>\n",
       "      <th>pm2.5</th>\n",
       "      <th>DEWP</th>\n",
       "      <th>PRES</th>\n",
       "      <th>Iws</th>\n",
       "      <th>Is</th>\n",
       "      <th>Ir</th>\n",
       "      <th>cbwd_NE</th>\n",
       "      <th>cbwd_NW</th>\n",
       "      <th>cbwd_SE</th>\n",
       "      <th>cbwd_cv</th>\n",
       "    </tr>\n",
       "  </thead>\n",
       "  <tbody>\n",
       "    <tr>\n",
       "      <th>0</th>\n",
       "      <td>129.0</td>\n",
       "      <td>-21</td>\n",
       "      <td>1021.0</td>\n",
       "      <td>1.79</td>\n",
       "      <td>0</td>\n",
       "      <td>0</td>\n",
       "      <td>0</td>\n",
       "      <td>1</td>\n",
       "      <td>0</td>\n",
       "      <td>0</td>\n",
       "    </tr>\n",
       "    <tr>\n",
       "      <th>1</th>\n",
       "      <td>129.0</td>\n",
       "      <td>-21</td>\n",
       "      <td>1020.0</td>\n",
       "      <td>4.92</td>\n",
       "      <td>0</td>\n",
       "      <td>0</td>\n",
       "      <td>0</td>\n",
       "      <td>1</td>\n",
       "      <td>0</td>\n",
       "      <td>0</td>\n",
       "    </tr>\n",
       "    <tr>\n",
       "      <th>2</th>\n",
       "      <td>129.0</td>\n",
       "      <td>-21</td>\n",
       "      <td>1019.0</td>\n",
       "      <td>6.71</td>\n",
       "      <td>0</td>\n",
       "      <td>0</td>\n",
       "      <td>0</td>\n",
       "      <td>1</td>\n",
       "      <td>0</td>\n",
       "      <td>0</td>\n",
       "    </tr>\n",
       "    <tr>\n",
       "      <th>3</th>\n",
       "      <td>129.0</td>\n",
       "      <td>-21</td>\n",
       "      <td>1019.0</td>\n",
       "      <td>9.84</td>\n",
       "      <td>0</td>\n",
       "      <td>0</td>\n",
       "      <td>0</td>\n",
       "      <td>1</td>\n",
       "      <td>0</td>\n",
       "      <td>0</td>\n",
       "    </tr>\n",
       "    <tr>\n",
       "      <th>4</th>\n",
       "      <td>129.0</td>\n",
       "      <td>-20</td>\n",
       "      <td>1018.0</td>\n",
       "      <td>12.97</td>\n",
       "      <td>0</td>\n",
       "      <td>0</td>\n",
       "      <td>0</td>\n",
       "      <td>1</td>\n",
       "      <td>0</td>\n",
       "      <td>0</td>\n",
       "    </tr>\n",
       "    <tr>\n",
       "      <th>...</th>\n",
       "      <td>...</td>\n",
       "      <td>...</td>\n",
       "      <td>...</td>\n",
       "      <td>...</td>\n",
       "      <td>...</td>\n",
       "      <td>...</td>\n",
       "      <td>...</td>\n",
       "      <td>...</td>\n",
       "      <td>...</td>\n",
       "      <td>...</td>\n",
       "    </tr>\n",
       "    <tr>\n",
       "      <th>43819</th>\n",
       "      <td>8.0</td>\n",
       "      <td>-23</td>\n",
       "      <td>1034.0</td>\n",
       "      <td>231.97</td>\n",
       "      <td>0</td>\n",
       "      <td>0</td>\n",
       "      <td>0</td>\n",
       "      <td>1</td>\n",
       "      <td>0</td>\n",
       "      <td>0</td>\n",
       "    </tr>\n",
       "    <tr>\n",
       "      <th>43820</th>\n",
       "      <td>10.0</td>\n",
       "      <td>-22</td>\n",
       "      <td>1034.0</td>\n",
       "      <td>237.78</td>\n",
       "      <td>0</td>\n",
       "      <td>0</td>\n",
       "      <td>0</td>\n",
       "      <td>1</td>\n",
       "      <td>0</td>\n",
       "      <td>0</td>\n",
       "    </tr>\n",
       "    <tr>\n",
       "      <th>43821</th>\n",
       "      <td>10.0</td>\n",
       "      <td>-22</td>\n",
       "      <td>1034.0</td>\n",
       "      <td>242.70</td>\n",
       "      <td>0</td>\n",
       "      <td>0</td>\n",
       "      <td>0</td>\n",
       "      <td>1</td>\n",
       "      <td>0</td>\n",
       "      <td>0</td>\n",
       "    </tr>\n",
       "    <tr>\n",
       "      <th>43822</th>\n",
       "      <td>8.0</td>\n",
       "      <td>-22</td>\n",
       "      <td>1034.0</td>\n",
       "      <td>246.72</td>\n",
       "      <td>0</td>\n",
       "      <td>0</td>\n",
       "      <td>0</td>\n",
       "      <td>1</td>\n",
       "      <td>0</td>\n",
       "      <td>0</td>\n",
       "    </tr>\n",
       "    <tr>\n",
       "      <th>43823</th>\n",
       "      <td>12.0</td>\n",
       "      <td>-21</td>\n",
       "      <td>1034.0</td>\n",
       "      <td>249.85</td>\n",
       "      <td>0</td>\n",
       "      <td>0</td>\n",
       "      <td>0</td>\n",
       "      <td>1</td>\n",
       "      <td>0</td>\n",
       "      <td>0</td>\n",
       "    </tr>\n",
       "  </tbody>\n",
       "</table>\n",
       "<p>43824 rows × 10 columns</p>\n",
       "</div>"
      ],
      "text/plain": [
       "       pm2.5  DEWP    PRES     Iws  Is  Ir  cbwd_NE  cbwd_NW  cbwd_SE  cbwd_cv\n",
       "0      129.0   -21  1021.0    1.79   0   0        0        1        0        0\n",
       "1      129.0   -21  1020.0    4.92   0   0        0        1        0        0\n",
       "2      129.0   -21  1019.0    6.71   0   0        0        1        0        0\n",
       "3      129.0   -21  1019.0    9.84   0   0        0        1        0        0\n",
       "4      129.0   -20  1018.0   12.97   0   0        0        1        0        0\n",
       "...      ...   ...     ...     ...  ..  ..      ...      ...      ...      ...\n",
       "43819    8.0   -23  1034.0  231.97   0   0        0        1        0        0\n",
       "43820   10.0   -22  1034.0  237.78   0   0        0        1        0        0\n",
       "43821   10.0   -22  1034.0  242.70   0   0        0        1        0        0\n",
       "43822    8.0   -22  1034.0  246.72   0   0        0        1        0        0\n",
       "43823   12.0   -21  1034.0  249.85   0   0        0        1        0        0\n",
       "\n",
       "[43824 rows x 10 columns]"
      ]
     },
     "execution_count": 209,
     "metadata": {},
     "output_type": "execute_result"
    }
   ],
   "source": [
    "df"
   ]
  },
  {
   "cell_type": "markdown",
   "metadata": {
    "id": "Zuu92A9cTb-v"
   },
   "source": [
    "# Splitting"
   ]
  },
  {
   "cell_type": "code",
   "execution_count": null,
   "metadata": {
    "id": "Ju_Dbv2sKU7c"
   },
   "outputs": [],
   "source": [
    "def traintest_split(dataset):\n",
    "    x=35064\n",
    "    train_data=dataset[:x]\n",
    "    test_data=dataset[x:]\n",
    "    return train_data,test_data"
   ]
  },
  {
   "cell_type": "code",
   "execution_count": null,
   "metadata": {
    "colab": {
     "base_uri": "https://localhost:8080/"
    },
    "id": "nuNx08INKU_c",
    "outputId": "a17e5862-c7d5-45e5-e4e7-73615e8c2ac7"
   },
   "outputs": [
    {
     "name": "stdout",
     "output_type": "stream",
     "text": [
      "Time-series hourly data\n",
      "(35064, 10)\n",
      "(8760, 10)\n"
     ]
    }
   ],
   "source": [
    "print(\"Time-series hourly data\")\n",
    "train_data,test_data=traintest_split(df)\n",
    "print(train_data.shape)\n",
    "print(test_data.shape)"
   ]
  },
  {
   "cell_type": "markdown",
   "metadata": {
    "id": "4RxJ_gDKRbvt"
   },
   "source": [
    "# **Scaling**"
   ]
  },
  {
   "cell_type": "code",
   "execution_count": null,
   "metadata": {
    "id": "F0OlEhhGKVD6"
   },
   "outputs": [],
   "source": [
    "def scaling(train,test):\n",
    "  scaler=MinMaxScaler(feature_range=(0,1))\n",
    "  a=scaler.fit_transform(train)\n",
    "  b=scaler.transform(test)\n",
    "  return a,b"
   ]
  },
  {
   "cell_type": "code",
   "execution_count": null,
   "metadata": {
    "id": "xfN6XfhLl6Xv"
   },
   "outputs": [],
   "source": [
    "scaler=MinMaxScaler(feature_range=(0,1))\n",
    "a=scaler.fit_transform(train_data)\n",
    "b=scaler.transform(test_data)"
   ]
  },
  {
   "cell_type": "code",
   "execution_count": null,
   "metadata": {
    "id": "zu1G_ks0Mgbe"
   },
   "outputs": [],
   "source": [
    "scaled_train_data,scaled_test_data=scaling(train_data,test_data)"
   ]
  },
  {
   "cell_type": "code",
   "execution_count": null,
   "metadata": {
    "colab": {
     "base_uri": "https://localhost:8080/"
    },
    "id": "_WUlKowcNROv",
    "outputId": "999e0be8-ee20-43b9-b676-c3a807c6a5aa"
   },
   "outputs": [
    {
     "name": "stdout",
     "output_type": "stream",
     "text": [
      "(35064, 10)\n",
      "(8760, 10)\n"
     ]
    }
   ],
   "source": [
    "print(scaled_train_data.shape)\n",
    "print(scaled_test_data.shape)"
   ]
  },
  {
   "cell_type": "markdown",
   "metadata": {
    "id": "gsRGM-rCRvQE"
   },
   "source": [
    "# **Supervised Form**"
   ]
  },
  {
   "cell_type": "code",
   "execution_count": null,
   "metadata": {
    "id": "ymA1o89Pvbi9"
   },
   "outputs": [],
   "source": [
    "def series_to_supervised(dataset,look_back,horizon):\n",
    "  x=[]\n",
    "  y=[]\n",
    "  for i in range(len(dataset)):\n",
    "    # find the end of this pattern\n",
    "    end_ix = i + look_back\n",
    "    # check if we are beyond the dataset\n",
    "    if end_ix > len(dataset)-horizon:\n",
    "      break\n",
    "    # gather input and output parts of the pattern\n",
    "    data_x, data_y = dataset[i:end_ix,0:], dataset[end_ix:end_ix+horizon,0]\n",
    "    x.append(data_x)\n",
    "    y.append(data_y)\n",
    "  return np.array(x), np.array(y)"
   ]
  },
  {
   "cell_type": "code",
   "execution_count": null,
   "metadata": {
    "id": "pV0s9gcc4yYq"
   },
   "outputs": [],
   "source": [
    "horizon=6\n",
    "x_train1,y_train1=series_to_supervised(scaled_train_data,12,horizon)\n",
    "x_test1,y_test1=series_to_supervised(scaled_test_data,12,horizon)"
   ]
  },
  {
   "cell_type": "code",
   "execution_count": null,
   "metadata": {
    "id": "89GrZs3VVsF2"
   },
   "outputs": [],
   "source": [
    "x_train1= np.reshape(x_train1, (x_train1.shape[0],x_train1.shape[1],10))\n",
    "x_test1= np.reshape(x_test1, (x_test1.shape[0],x_test1.shape[1],10))"
   ]
  },
  {
   "cell_type": "code",
   "execution_count": null,
   "metadata": {
    "colab": {
     "base_uri": "https://localhost:8080/"
    },
    "id": "0Xk1jQDwSrbU",
    "outputId": "2a80c64b-973c-4e76-97af-aaf2346461f0"
   },
   "outputs": [
    {
     "name": "stdout",
     "output_type": "stream",
     "text": [
      "x_train  (35047, 12, 10)\n",
      "y_train  (35047, 6)\n",
      "x_test  (8743, 12, 10)\n",
      "y_test  (8743, 6)\n"
     ]
    }
   ],
   "source": [
    "print(\"x_train  \" + str(x_train1.shape))\n",
    "print(\"y_train  \" + str(y_train1.shape))\n",
    "print(\"x_test  \" + str(x_test1.shape))\n",
    "print(\"y_test  \" + str(y_test1.shape))"
   ]
  },
  {
   "cell_type": "markdown",
   "metadata": {
    "id": "6nkNAmido1b_"
   },
   "source": [
    "# **Loss Graph Function**"
   ]
  },
  {
   "cell_type": "code",
   "execution_count": null,
   "metadata": {
    "id": "7yDiuKE_vbi_"
   },
   "outputs": [],
   "source": [
    "def loss_graph(history):\n",
    "  loss_train = history.history['loss']\n",
    "  loss_val = history.history['val_loss']\n",
    "  epochs = range(1,(len(loss_train))+1)\n",
    "  plt.plot(epochs, loss_train, 'g', label='Training loss')\n",
    "  plt.plot(epochs, loss_val, 'b', label='validation loss')\n",
    "  plt.title('Training and Validation loss')\n",
    "  plt.xlabel('Epochs')\n",
    "  plt.ylabel('Loss')\n",
    "  plt.legend()\n",
    "  plt.show()"
   ]
  },
  {
   "cell_type": "markdown",
   "metadata": {
    "id": "LtWlbXLnZozX"
   },
   "source": [
    "# Proposed Method"
   ]
  },
  {
   "cell_type": "code",
   "execution_count": null,
   "metadata": {
    "id": "fv--rKXhAQP4"
   },
   "outputs": [],
   "source": [
    "model1 = Sequential()\n",
    "model1.add(Conv1D(filters=32, kernel_size=4,activation='relu', input_shape=(12, 10)))\n",
    "model1.add(Conv1D(filters=16, kernel_size=2,activation='relu'))\n",
    "model1.add(LSTM(16,activation='tanh',return_sequences=True)) \n",
    "model1.add(LSTM(8,activation='tanh',return_sequences=True))\n",
    "model1.add(LSTM(4,activation='tanh'))\n",
    "model1.add(Dense(1))"
   ]
  },
  {
   "cell_type": "code",
   "execution_count": null,
   "metadata": {
    "id": "bjPqjYiXvbi_"
   },
   "outputs": [],
   "source": [
    "opt = keras.optimizers.Adam(learning_rate=0.001)\n",
    "model1.compile(optimizer=opt,loss='mse')"
   ]
  },
  {
   "cell_type": "code",
   "execution_count": null,
   "metadata": {
    "id": "6qUBZnRO5K0s"
   },
   "outputs": [],
   "source": [
    "es=EarlyStopping(monitor='val_loss',patience=5,verbose=1)"
   ]
  },
  {
   "cell_type": "code",
   "execution_count": null,
   "metadata": {
    "colab": {
     "base_uri": "https://localhost:8080/"
    },
    "id": "F5KdvCd8vbi_",
    "outputId": "e32b825c-71c8-4a82-8a4f-adf5eaa5be0b",
    "scrolled": true
   },
   "outputs": [
    {
     "name": "stdout",
     "output_type": "stream",
     "text": [
      "Epoch 1/50\n",
      "1095/1095 [==============================] - 10s 6ms/step - loss: 0.0132 - val_loss: 0.0036\n",
      "Epoch 2/50\n",
      "1095/1095 [==============================] - 6s 6ms/step - loss: 0.0033 - val_loss: 0.0028\n",
      "Epoch 3/50\n",
      "1095/1095 [==============================] - 6s 6ms/step - loss: 0.0029 - val_loss: 0.0025\n",
      "Epoch 4/50\n",
      "1095/1095 [==============================] - 6s 6ms/step - loss: 0.0026 - val_loss: 0.0023\n",
      "Epoch 5/50\n",
      "1095/1095 [==============================] - 6s 6ms/step - loss: 0.0024 - val_loss: 0.0022\n",
      "Epoch 6/50\n",
      "1095/1095 [==============================] - 6s 6ms/step - loss: 0.0023 - val_loss: 0.0020\n",
      "Epoch 7/50\n",
      "1095/1095 [==============================] - 6s 6ms/step - loss: 0.0022 - val_loss: 0.0020\n",
      "Epoch 8/50\n",
      "1095/1095 [==============================] - 6s 6ms/step - loss: 0.0022 - val_loss: 0.0019\n",
      "Epoch 9/50\n",
      "1095/1095 [==============================] - 6s 6ms/step - loss: 0.0021 - val_loss: 0.0019\n",
      "Epoch 10/50\n",
      "1095/1095 [==============================] - 6s 6ms/step - loss: 0.0021 - val_loss: 0.0019\n",
      "Epoch 11/50\n",
      "1095/1095 [==============================] - 6s 6ms/step - loss: 0.0021 - val_loss: 0.0019\n",
      "Epoch 12/50\n",
      "1095/1095 [==============================] - 6s 6ms/step - loss: 0.0021 - val_loss: 0.0019\n",
      "Epoch 13/50\n",
      "1095/1095 [==============================] - 6s 6ms/step - loss: 0.0021 - val_loss: 0.0019\n",
      "Epoch 14/50\n",
      "1095/1095 [==============================] - 6s 6ms/step - loss: 0.0021 - val_loss: 0.0019\n",
      "Epoch 15/50\n",
      "1095/1095 [==============================] - 6s 6ms/step - loss: 0.0021 - val_loss: 0.0019\n",
      "Epoch 16/50\n",
      "1095/1095 [==============================] - 6s 6ms/step - loss: 0.0021 - val_loss: 0.0018\n",
      "Epoch 17/50\n",
      "1095/1095 [==============================] - 6s 6ms/step - loss: 0.0021 - val_loss: 0.0019\n",
      "Epoch 18/50\n",
      "1095/1095 [==============================] - 6s 6ms/step - loss: 0.0021 - val_loss: 0.0019\n",
      "Epoch 19/50\n",
      "1095/1095 [==============================] - 6s 6ms/step - loss: 0.0021 - val_loss: 0.0018\n",
      "Epoch 20/50\n",
      "1095/1095 [==============================] - 6s 6ms/step - loss: 0.0021 - val_loss: 0.0019\n",
      "Epoch 21/50\n",
      "1095/1095 [==============================] - 6s 6ms/step - loss: 0.0021 - val_loss: 0.0018\n",
      "Epoch 22/50\n",
      "1095/1095 [==============================] - 6s 6ms/step - loss: 0.0021 - val_loss: 0.0018\n",
      "Epoch 23/50\n",
      "1095/1095 [==============================] - 6s 6ms/step - loss: 0.0021 - val_loss: 0.0018\n",
      "Epoch 24/50\n",
      "1095/1095 [==============================] - 6s 6ms/step - loss: 0.0021 - val_loss: 0.0018\n",
      "Epoch 25/50\n",
      "1095/1095 [==============================] - 6s 6ms/step - loss: 0.0020 - val_loss: 0.0018\n",
      "Epoch 26/50\n",
      "1095/1095 [==============================] - 6s 6ms/step - loss: 0.0020 - val_loss: 0.0018\n",
      "Epoch 27/50\n",
      "1095/1095 [==============================] - 6s 6ms/step - loss: 0.0020 - val_loss: 0.0018\n",
      "Epoch 28/50\n",
      "1095/1095 [==============================] - 6s 6ms/step - loss: 0.0020 - val_loss: 0.0018\n",
      "Epoch 29/50\n",
      "1095/1095 [==============================] - 6s 6ms/step - loss: 0.0020 - val_loss: 0.0018\n",
      "Epoch 30/50\n",
      "1095/1095 [==============================] - 6s 6ms/step - loss: 0.0020 - val_loss: 0.0018\n",
      "Epoch 31/50\n",
      "1095/1095 [==============================] - 6s 6ms/step - loss: 0.0020 - val_loss: 0.0018\n",
      "Epoch 32/50\n",
      "1095/1095 [==============================] - 6s 6ms/step - loss: 0.0020 - val_loss: 0.0018\n",
      "Epoch 33/50\n",
      "1095/1095 [==============================] - 6s 6ms/step - loss: 0.0020 - val_loss: 0.0018\n",
      "Epoch 34/50\n",
      "1095/1095 [==============================] - 6s 6ms/step - loss: 0.0020 - val_loss: 0.0018\n",
      "Epoch 35/50\n",
      "1095/1095 [==============================] - 6s 6ms/step - loss: 0.0020 - val_loss: 0.0018\n",
      "Epoch 36/50\n",
      "1095/1095 [==============================] - 6s 6ms/step - loss: 0.0020 - val_loss: 0.0018\n",
      "Epoch 37/50\n",
      "1095/1095 [==============================] - 6s 6ms/step - loss: 0.0020 - val_loss: 0.0018\n",
      "Epoch 38/50\n",
      "1095/1095 [==============================] - 6s 6ms/step - loss: 0.0020 - val_loss: 0.0019\n",
      "Epoch 39/50\n",
      "1095/1095 [==============================] - 6s 6ms/step - loss: 0.0020 - val_loss: 0.0018\n",
      "Epoch 40/50\n",
      "1095/1095 [==============================] - 6s 6ms/step - loss: 0.0020 - val_loss: 0.0018\n",
      "Epoch 41/50\n",
      "1095/1095 [==============================] - 6s 6ms/step - loss: 0.0020 - val_loss: 0.0018\n",
      "Epoch 42/50\n",
      "1095/1095 [==============================] - 6s 6ms/step - loss: 0.0020 - val_loss: 0.0018\n",
      "Epoch 43/50\n",
      "1095/1095 [==============================] - 6s 6ms/step - loss: 0.0020 - val_loss: 0.0018\n",
      "Epoch 44/50\n",
      "1095/1095 [==============================] - 6s 6ms/step - loss: 0.0020 - val_loss: 0.0018\n",
      "Epoch 45/50\n",
      "1095/1095 [==============================] - 6s 6ms/step - loss: 0.0020 - val_loss: 0.0018\n",
      "Epoch 46/50\n",
      "1095/1095 [==============================] - 6s 6ms/step - loss: 0.0020 - val_loss: 0.0019\n",
      "Epoch 47/50\n",
      "1095/1095 [==============================] - 6s 6ms/step - loss: 0.0020 - val_loss: 0.0018\n",
      "Epoch 48/50\n",
      "1095/1095 [==============================] - 6s 6ms/step - loss: 0.0020 - val_loss: 0.0018\n",
      "Epoch 49/50\n",
      "1095/1095 [==============================] - 6s 6ms/step - loss: 0.0020 - val_loss: 0.0018\n",
      "Epoch 50/50\n",
      "1095/1095 [==============================] - 6s 6ms/step - loss: 0.0020 - val_loss: 0.0018\n"
     ]
    }
   ],
   "source": [
    "history1=model1.fit(x_train1, y_train1[:,5], epochs=50,batch_size=32,validation_data=(x_test1,y_test1[:,5]))"
   ]
  },
  {
   "cell_type": "markdown",
   "metadata": {
    "id": "Hf4K-lE-rbug"
   },
   "source": [
    "### **Loss Graph**"
   ]
  },
  {
   "cell_type": "code",
   "execution_count": null,
   "metadata": {
    "colab": {
     "base_uri": "https://localhost:8080/",
     "height": 295
    },
    "id": "-r2Ne4PFrkeS",
    "outputId": "cd222ecd-880b-4963-ce8a-a44bc8061724"
   },
   "outputs": [
    {
     "data": {
      "image/png": "[encoded data removed]",
      "text/plain": [
       "<Figure size 432x288 with 1 Axes>"
      ]
     },
     "metadata": {
      "needs_background": "light"
     },
     "output_type": "display_data"
    }
   ],
   "source": [
    "loss_graph(history1)"
   ]
  },
  {
   "cell_type": "code",
   "execution_count": null,
   "metadata": {
    "id": "rqLOgf3ek1MZ"
   },
   "outputs": [],
   "source": []
  },
  {
   "cell_type": "markdown",
   "metadata": {
    "id": "C01TriOaqkix"
   },
   "source": [
    "# Train"
   ]
  },
  {
   "cell_type": "code",
   "execution_count": null,
   "metadata": {
    "id": "7X2N_jzpqkiy"
   },
   "outputs": [],
   "source": [
    "y_pred_train=model1.predict(x_train1)"
   ]
  },
  {
   "cell_type": "code",
   "execution_count": null,
   "metadata": {
    "id": "5L4D2bazqkiz"
   },
   "outputs": [],
   "source": [
    "forecast_copies = np.repeat(y_pred_train, x_train1.shape[2], axis=-1)\n",
    "y_pred_train = scaler.inverse_transform(forecast_copies)[:,0]"
   ]
  },
  {
   "cell_type": "code",
   "execution_count": null,
   "metadata": {
    "id": "zwMAjOCtqki0"
   },
   "outputs": [],
   "source": [
    "df_train_predicted=pd.DataFrame(data=y_pred_train, columns=['Predicted_train'])"
   ]
  },
  {
   "cell_type": "code",
   "execution_count": null,
   "metadata": {
    "id": "2olbXnNFqki0"
   },
   "outputs": [],
   "source": [
    "actual_copies = np.repeat(y_train1[:,5].reshape(-1,1), x_train1.shape[2], axis=-1)\n",
    "y_actual_train = scaler.inverse_transform(actual_copies)[:,0]"
   ]
  },
  {
   "cell_type": "code",
   "execution_count": null,
   "metadata": {},
   "outputs": [],
   "source": [
    "df_train_actual=pd.DataFrame(data=y_actual_train ,columns=['Actual_train'])"
   ]
  },
  {
   "cell_type": "code",
   "execution_count": null,
   "metadata": {},
   "outputs": [],
   "source": [
    "df1=pd.concat([df_train_actual,df_train_predicted],axis=1)"
   ]
  },
  {
   "cell_type": "code",
   "execution_count": null,
   "metadata": {
    "colab": {
     "base_uri": "https://localhost:8080/",
     "height": 337
    },
    "id": "HqIQXYCiqki2",
    "outputId": "a909592f-b005-4a27-810f-dca35ddbfd8b"
   },
   "outputs": [
    {
     "data": {
      "text/plain": [
       "<matplotlib.axes._subplots.AxesSubplot at 0x7f846c0c8790>"
      ]
     },
     "execution_count": 220,
     "metadata": {},
     "output_type": "execute_result"
    },
    {
     "data": {
      "image/png": "[encoded data removed]",
      "text/plain": [
       "<Figure size 720x360 with 1 Axes>"
      ]
     },
     "metadata": {
      "needs_background": "light"
     },
     "output_type": "display_data"
    }
   ],
   "source": [
    "df1.plot(figsize=(10,5))"
   ]
  },
  {
   "cell_type": "code",
   "execution_count": null,
   "metadata": {
    "colab": {
     "base_uri": "https://localhost:8080/"
    },
    "id": "3FO5_K-rqki2",
    "outputId": "c40340e3-4b1f-4ace-fb37-77daca5ae82d"
   },
   "outputs": [
    {
     "name": "stdout",
     "output_type": "stream",
     "text": [
      "Train Score: 51.84 RMSE\n",
      "Train Score: 2687.81 MSE\n"
     ]
    }
   ],
   "source": [
    "import math\n",
    "trainScore = math.sqrt(mean_squared_error(df1['Actual_train'],df1['Predicted_train']))\n",
    "print('Train Score: %.2f RMSE' % (trainScore))\n",
    "trainScore1 =mean_squared_error(df1['Actual_train'],df1['Predicted_train'])\n",
    "print('Train Score: %.2f MSE' % (trainScore1))"
   ]
  },
  {
   "cell_type": "code",
   "execution_count": null,
   "metadata": {
    "colab": {
     "base_uri": "https://localhost:8080/"
    },
    "id": "TxzApmVBcpGy",
    "outputId": "3614d216-6bf4-4df0-9607-80bb49485584"
   },
   "outputs": [
    {
     "name": "stdout",
     "output_type": "stream",
     "text": [
      "Train Score: 32.20 MAE\n"
     ]
    }
   ],
   "source": [
    "trainScore2 = mean_absolute_error(df1['Actual_train'],df1['Predicted_train'])\n",
    "print('Train Score: %.2f MAE' % (trainScore2))"
   ]
  },
  {
   "cell_type": "markdown",
   "metadata": {
    "id": "q25OLVR0qki2"
   },
   "source": [
    "# Test"
   ]
  },
  {
   "cell_type": "code",
   "execution_count": null,
   "metadata": {
    "id": "bl41WaRcqki2"
   },
   "outputs": [],
   "source": [
    "y_pred_test=model1.predict(x_test1)"
   ]
  },
  {
   "cell_type": "code",
   "execution_count": null,
   "metadata": {
    "id": "YlgDQaD-qki3"
   },
   "outputs": [],
   "source": [
    "forecast_copies = np.repeat(y_pred_test, x_test1.shape[2], axis=-1)\n",
    "y_pred_test = scaler.inverse_transform(forecast_copies)[:,0]"
   ]
  },
  {
   "cell_type": "code",
   "execution_count": null,
   "metadata": {
    "id": "jNuSERFWqki3"
   },
   "outputs": [],
   "source": [
    "df_test_predicted=pd.DataFrame(data=y_pred_test, columns=['Predicted'])"
   ]
  },
  {
   "cell_type": "code",
   "execution_count": null,
   "metadata": {
    "id": "aGIsMxtNqki3"
   },
   "outputs": [],
   "source": [
    "actual_copies = np.repeat(y_test1[:,5].reshape(-1,1), x_test1.shape[2], axis=-1)\n",
    "y_actual_test = scaler.inverse_transform(actual_copies)[:,0]"
   ]
  },
  {
   "cell_type": "code",
   "execution_count": null,
   "metadata": {},
   "outputs": [],
   "source": [
    "df_test_actual=pd.DataFrame(data=y_actual_test ,columns=['Actual'])"
   ]
  },
  {
   "cell_type": "code",
   "execution_count": null,
   "metadata": {},
   "outputs": [],
   "source": [
    "df2=pd.concat([df_test_actual,df_test_predicted],axis=1)"
   ]
  },
  {
   "cell_type": "code",
   "execution_count": null,
   "metadata": {
    "colab": {
     "base_uri": "https://localhost:8080/",
     "height": 320
    },
    "id": "ieCLEBWCqki4",
    "outputId": "9c1a9b1f-b944-4982-cc18-dfc018228481"
   },
   "outputs": [
    {
     "data": {
      "image/png": "[encoded data removed]",
      "text/plain": [
       "<Figure size 720x360 with 1 Axes>"
      ]
     },
     "metadata": {
      "needs_background": "light"
     },
     "output_type": "display_data"
    }
   ],
   "source": [
    "df2['Actual'][:100].plot(figsize=(10,5),c='black',label='Actual')\n",
    "df2['Predicted'][:100].plot(figsize=(10,5),c='blue',label='Predicted')\n",
    "plt.legend()\n",
    "plt.show()"
   ]
  },
  {
   "cell_type": "code",
   "execution_count": null,
   "metadata": {
    "colab": {
     "base_uri": "https://localhost:8080/"
    },
    "id": "euo3qHymqki4",
    "outputId": "ffebeaa0-3f73-4a86-e7a1-65ec5b6d5018"
   },
   "outputs": [
    {
     "name": "stdout",
     "output_type": "stream",
     "text": [
      "Test Score: 49.37 RMSE\n",
      "Test Score: 2437.42 MSE\n"
     ]
    }
   ],
   "source": [
    "import math\n",
    "testScore = math.sqrt(mean_squared_error(df2['Actual'],df2['Predicted']))\n",
    "print('Test Score: %.2f RMSE' % (testScore))\n",
    "testScore1 =mean_squared_error(df2['Actual'],df2['Predicted'])\n",
    "print('Test Score: %.2f MSE' % (testScore1))"
   ]
  },
  {
   "cell_type": "code",
   "execution_count": null,
   "metadata": {
    "id": "Zj_p1RKMqki4"
   },
   "outputs": [],
   "source": [
    "from sklearn.metrics import mean_absolute_error"
   ]
  },
  {
   "cell_type": "code",
   "execution_count": null,
   "metadata": {
    "colab": {
     "base_uri": "https://localhost:8080/"
    },
    "id": "MY0M2XEHqki5",
    "outputId": "5698808f-c4f3-4617-bf3a-5b56962cda9b"
   },
   "outputs": [
    {
     "name": "stdout",
     "output_type": "stream",
     "text": [
      "Train Score: 31.19 MAE\n"
     ]
    }
   ],
   "source": [
    "import math\n",
    "testScore2 = mean_absolute_error(df2['Actual'],df2['Predicted'])\n",
    "print('Train Score: %.2f MAE' % (testScore2))"
   ]
  },
  {
   "cell_type": "code",
   "execution_count": null,
   "metadata": {
    "id": "Itim9II4FLlC"
   },
   "outputs": [],
   "source": []
  }
 ],
 "metadata": {
  "accelerator": "GPU",
  "colab": {
   "collapsed_sections": [
    "Tvoa1K-DQQVO",
    "OQerk2bpYOjj",
    "EP1h7S66uAMo"
   ],
   "name": "Proposed_Beijing_for_multivariate(t+6).ipynb",
   "provenance": []
  },
  "kernelspec": {
   "display_name": "Python 3",
   "language": "python",
   "name": "python3"
  },
  "language_info": {
   "codemirror_mode": {
    "name": "ipython",
    "version": 3
   },
   "file_extension": ".py",
   "mimetype": "text/x-python",
   "name": "python",
   "nbconvert_exporter": "python",
   "pygments_lexer": "ipython3",
   "version": "3.7.4"
  }
 },
 "nbformat": 4,
 "nbformat_minor": 1
}
